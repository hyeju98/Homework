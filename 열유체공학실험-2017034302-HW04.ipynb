{
  "nbformat": 4,
  "nbformat_minor": 0,
  "metadata": {
    "colab": {
      "name": "Untitled2.ipynb",
      "provenance": [],
      "collapsed_sections": [],
      "include_colab_link": true
    },
    "kernelspec": {
      "name": "python3",
      "display_name": "Python 3"
    }
  },
  "cells": [
    {
      "cell_type": "markdown",
      "metadata": {
        "id": "view-in-github",
        "colab_type": "text"
      },
      "source": [
        "<a href=\"https://colab.research.google.com/github/hyeju98/Homework/blob/master/%EC%97%B4%EC%9C%A0%EC%B2%B4%EA%B3%B5%ED%95%99%EC%8B%A4%ED%97%98-2017034302-HW04.ipynb\" target=\"_parent\"><img src=\"https://colab.research.google.com/assets/colab-badge.svg\" alt=\"Open In Colab\"/></a>"
      ]
    },
    {
      "cell_type": "code",
      "metadata": {
        "id": "z12b7vT3I3RX",
        "colab_type": "code",
        "colab": {
          "base_uri": "https://localhost:8080/",
          "height": 485
        },
        "outputId": "a1472c78-7e26-4eec-86ff-b1af9b6e6c65"
      },
      "source": [
        "#1\n",
        "a=int(input())\n",
        "def gugudan(n):\n",
        "  for i in range(1,10):\n",
        "    print (n,'X',i,'=',n*i)\n",
        "%timeit gugudan\n",
        "gugudan(a)\n",
        "#2\n",
        "import numpy as np\n",
        "x = np.arange(1,10*a)\n",
        "%timeit x[a-1::a] \n",
        "print (x[a-1::a])\n",
        "#3\n",
        "import numba\n",
        "def ggd_function(n):\n",
        "  for i in range(1,10):\n",
        "    print (n,'X',i,'=',n*i)\n",
        "%timeit ggd_function_jit=numba.jit(ggd_function) \n",
        "ggd_function_jit(a)\n",
        "#4\n",
        "#from numba import vectorize\n",
        "#@vectorize(['int64(int64, int64)'], target='cuda')\n",
        "#def ggd_function_2(n):\n",
        "#  for i in range(1,10):\n",
        "#    print (n,'X',i,'=',n*i)\n",
        "#%timeit ggd_function_2_jit=numba.jit(ggd_function_2) \n",
        "#ggd_function_2_jit(a)   \n",
        "\n",
        "\n"
      ],
      "execution_count": 39,
      "outputs": [
        {
          "output_type": "stream",
          "text": [
            "5\n",
            "The slowest run took 63.55 times longer than the fastest. This could mean that an intermediate result is being cached.\n",
            "100000000 loops, best of 3: 18.1 ns per loop\n",
            "5 X 1 = 5\n",
            "5 X 2 = 10\n",
            "5 X 3 = 15\n",
            "5 X 4 = 20\n",
            "5 X 5 = 25\n",
            "5 X 6 = 30\n",
            "5 X 7 = 35\n",
            "5 X 8 = 40\n",
            "5 X 9 = 45\n",
            "The slowest run took 77.04 times longer than the fastest. This could mean that an intermediate result is being cached.\n",
            "1000000 loops, best of 3: 269 ns per loop\n",
            "[ 5 10 15 20 25 30 35 40 45]\n",
            "The slowest run took 6.25 times longer than the fastest. This could mean that an intermediate result is being cached.\n",
            "10000 loops, best of 3: 57.5 µs per loop\n",
            "5 X 1 = 5\n",
            "5 X 2 = 10\n",
            "5 X 3 = 15\n",
            "5 X 4 = 20\n",
            "5 X 5 = 25\n",
            "5 X 6 = 30\n",
            "5 X 7 = 35\n",
            "5 X 8 = 40\n",
            "5 X 9 = 45\n"
          ],
          "name": "stdout"
        }
      ]
    },
    {
      "cell_type": "code",
      "metadata": {
        "id": "49gvGgi-fy3B",
        "colab_type": "code",
        "colab": {}
      },
      "source": [
        "#!find / -iname 'libdevice'\n",
        "#!find / -iname 'libnvvm.so'\n",
        "\n",
        "#import os\n",
        "#os.environ['NUMBAPRO_LIBDEVICE']=\"/usr/local/cuda-10.1/nvvm/libdevice\"\n",
        "#os.environ['NUMBAPRO_NVVM']=\"/usr/local/cuda-10.1/nvvm/lib64/libnvvm.so\"\n",
        "\n",
        "#import array\n",
        "#import numpy as np\n",
        "#from numba import vectorize\n",
        "\n",
        "#a=np.arange(1,10)\n",
        "#b=4\n",
        "\n",
        "#@vectorize(['int64(int64,int64)'],target='cuda')\n",
        "#def multiply4(x,y):\n",
        "#  return x * y\n",
        "\n",
        "#%timeit multiply4(a,b)"
      ],
      "execution_count": 0,
      "outputs": []
    }
  ]
}